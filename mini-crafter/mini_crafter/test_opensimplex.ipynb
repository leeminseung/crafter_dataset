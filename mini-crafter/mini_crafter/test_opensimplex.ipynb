{
 "cells": [
  {
   "cell_type": "code",
   "execution_count": 5,
   "metadata": {},
   "outputs": [],
   "source": [
    "import numpy as np\n",
    "import matplotlib.pyplot as plt\n",
    "import opensimplex\n",
    "import functools"
   ]
  },
  {
   "cell_type": "code",
   "execution_count": 4,
   "metadata": {},
   "outputs": [],
   "source": [
    "def generate_world(world, player, player_init_pose=None):\n",
    "    simplex = opensimplex.OpenSimplex(seed=world.random.randint(0, 2 ** 31 - 1))\n",
    "    tunnels = np.zeros(world.area, np.bool)\n",
    "    if player_init_pose:\n",
    "        player_pos = player_init_pose\n",
    "    else:\n",
    "        player_pos = player.pos\n",
    "    for x in range(world.area[0]):\n",
    "        for y in range(world.area[1]):\n",
    "            _set_material(world, (x, y), player_pos, tunnels, simplex)\n",
    "    for x in range(world.area[0]):\n",
    "        for y in range(world.area[1]):\n",
    "            _set_object(world, (x, y), player_pos, tunnels)\n",
    "\n",
    "\n",
    "def _set_material(world, pos, player_pos, tunnels, simplex):\n",
    "    x, y = pos\n",
    "    simplex = functools.partial(_simplex, simplex)\n",
    "    uniform = world.random.uniform\n",
    "    start = 4 - np.sqrt((x - player_pos[0]) ** 2 + (y - player_pos[1]) ** 2)\n",
    "    start += 2 * simplex(x, y, 8, 3)\n",
    "    start = 1 / (1 + np.exp(-start))\n",
    "    water = simplex(x, y, 3, {15: 1, 5: 0.15}, False) + 0.1\n",
    "    water -= 2 * start\n",
    "    mountain = simplex(x, y, 0, {15: 1, 5: 0.3})\n",
    "    mountain -= 4 * start + 0.3 * water\n",
    "    # original setting\n",
    "    coal_uni_thr = 0.85\n",
    "    iron_uni_thr = 0.75\n",
    "    iron_simplex_thr = 0.4\n",
    "\n",
    "    if start > 0.2:\n",
    "        world[x, y] = \"grass\"\n",
    "    elif mountain > 0.15:\n",
    "        if simplex(x, y, 6, 7) > 0.15 and mountain > 0.3:  # cave\n",
    "            world[x, y] = \"path\"\n",
    "        elif simplex(2 * x, y / 5, 7, 3) > 0.4:  # horizonal tunnle\n",
    "            world[x, y] = \"path\"\n",
    "            tunnels[x, y] = True\n",
    "        elif simplex(x / 5, 2 * y, 7, 3) > 0.4:  # vertical tunnle\n",
    "            world[x, y] = \"path\"\n",
    "            tunnels[x, y] = True\n",
    "        elif simplex(x, y, 1, 8) > 0 and uniform() > coal_uni_thr:\n",
    "            world[x, y] = \"coal\"\n",
    "        elif simplex(x, y, 2, 6) > iron_simplex_thr and uniform() > iron_uni_thr:\n",
    "            world[x, y] = \"iron\"\n",
    "        elif mountain > 0.18 and uniform() > 0.994:\n",
    "            world[x, y] = \"diamond\"\n",
    "        elif mountain > 0.3 and simplex(x, y, 6, 5) > 0.35:\n",
    "            world[x, y] = \"lava\"\n",
    "        else:\n",
    "            world[x, y] = \"stone\"\n",
    "    elif 0.65 < water <= 0.75 and simplex(x, y, 4, 9) > -0.2:\n",
    "        world[x, y] = \"sand\"\n",
    "    elif 0.8 < water:\n",
    "        world[x, y] = \"water\"\n",
    "    else:  # grassland\n",
    "        if simplex(x, y, 5, 7) > 0 and uniform() > 0.8:\n",
    "            world[x, y] = \"tree\"\n",
    "        else:\n",
    "            world[x, y] = \"grass\"\n",
    "\n",
    "\n",
    "def _set_object(world, pos, player_pos, tunnels):\n",
    "    x, y = pos\n",
    "    uniform = world.random.uniform\n",
    "    dist = np.sqrt((x - player_pos[0]) ** 2 + (y - player_pos[1]) ** 2)\n",
    "    material, _ = world[x, y]\n",
    "    if material not in constants.walkable:\n",
    "        pass\n",
    "    # elif dist > 3 and material == \"grass\" and uniform() > 0.985:\n",
    "    #     world.add(objects.Cow(world, (x, y)))\n",
    "    # elif dist > 10 and uniform() > 0.993:\n",
    "    #     if world.level in [4]:\n",
    "    #         world.add(objects.Zombie(world, (x, y), player))\n",
    "    # elif material == \"path\" and tunnels[x, y] and uniform() > 0.95:\n",
    "    #     if world.level in [4]:\n",
    "    #         world.add(objects.Skeleton(world, (x, y), player))\n",
    "\n",
    "\n",
    "def _simplex(simplex, x, y, z, sizes, normalize=True):\n",
    "    if not isinstance(sizes, dict):\n",
    "        sizes = {sizes: 1}\n",
    "    value = 0\n",
    "    for size, weight in sizes.items():\n",
    "        if hasattr(simplex, \"noise3d\"):\n",
    "            noise = simplex.noise3d(x / size, y / size, z)\n",
    "        else:\n",
    "            noise = simplex.noise3(x / size, y / size, z)\n",
    "        value += weight * noise\n",
    "    if normalize:\n",
    "        value /= sum(sizes.values())\n",
    "    return value\n"
   ]
  },
  {
   "cell_type": "code",
   "execution_count": 159,
   "metadata": {},
   "outputs": [
    {
     "data": {
      "text/plain": [
       "Text(0.5, 1.0, 'iron simplex')"
      ]
     },
     "execution_count": 159,
     "metadata": {},
     "output_type": "execute_result"
    },
    {
     "data": {
      "image/png": "[encoded data removed]",
      "text/plain": [
       "<Figure size 720x720 with 12 Axes>"
      ]
     },
     "metadata": {
      "needs_background": "light"
     },
     "output_type": "display_data"
    }
   ],
   "source": [
    "def _set_material(world, pos, player_pos, tunnels, simplex):\n",
    "    start_noise, water_noise, mountain_noise, path, coal, iron, diamond, stone, coal_simplex, iron_simplex = world\n",
    "    x, y = pos\n",
    "    simplex = functools.partial(_simplex, simplex)\n",
    "    start = 0.5 - np.sqrt((x - player_pos[0]) ** 2 + (y - player_pos[1]) ** 2)\n",
    "    start += 2 * simplex(x, y, 8, 3/4)\n",
    "    start = 1 / (1 + np.exp(-start))\n",
    "    \n",
    "    start_noise[x, y] = start\n",
    "    water = simplex(2*x, y/2, 3, {15/4: 1, 5/4: 0.15}, False) + 0.1\n",
    "    water -= 2 * start\n",
    "    water_noise[x, y] = water\n",
    "    mountain = simplex(x, y, 0, {15/4: 1, 5/4: 0.3})\n",
    "    mountain -= 4 * start + 0.3 * water\n",
    "    mountain_noise[x, y] = mountain\n",
    "\n",
    "    coal_uni_thr = 0.4\n",
    "    iron_uni_thr = 0.4\n",
    "    iron_simplex_thr = 0.15\n",
    "    diamond_uni_thr = 0.9\n",
    "    coal_simplex[x,y] = simplex(x, y, 1, 8/4)\n",
    "    iron_simplex[x,y] = simplex(x, y, 1, 6/4)\n",
    "    if start > 0.2:\n",
    "        pass\n",
    "    elif mountain > 0.0:\n",
    "        if simplex(x, y, 6, 7/4) > 0.15 and mountain > 0.3:  # cave\n",
    "            path[x, y] = 1\n",
    "        elif simplex(2 * x, y / 5, 7, 3/4) > 0.4:  # horizonal tunnle\n",
    "            path[x, y] = 1\n",
    "        elif simplex(x / 5, 2 * y, 7, 3/4) > 0.4:  # vertical tunnle\n",
    "            path[x, y] = 1\n",
    "        elif simplex(x, y, 1, 8/4) > 0 and np.random.uniform() > coal_uni_thr:\n",
    "            coal[x, y] = 1\n",
    "        elif simplex(x, y, 2, 6/4) > iron_simplex_thr and np.random.uniform() > iron_uni_thr:\n",
    "            iron[x, y] = 1\n",
    "        elif mountain > 0.18 and np.random.uniform() > diamond_uni_thr:\n",
    "            diamond[x, y] = 1\n",
    "        else:\n",
    "            stone[x, y] = 1\n",
    "    \n",
    "start = np.zeros((16, 16))\n",
    "water = np.zeros((16, 16))\n",
    "mountain = np.zeros((16, 16))\n",
    "path = np.zeros((16, 16))\n",
    "coal = np.zeros((16, 16))\n",
    "iron = np.zeros((16, 16))\n",
    "diamond = np.zeros((16, 16))\n",
    "stone = np.zeros((16, 16))\n",
    "coal_simplex = np.zeros((16, 16))\n",
    "iron_simplex = np.zeros((16, 16))\n",
    "simplex = opensimplex.OpenSimplex(seed=1)\n",
    "for x in range(start.shape[0]):\n",
    "    for y in range(start.shape[1]):\n",
    "        _set_material((start, water, mountain, path, coal, iron, diamond, stone, coal_simplex, iron_simplex), (x, y), (8, 8), 0, simplex)\n",
    "\n",
    "fig, axes = plt.subplots(nrows=3, ncols=4)\n",
    "fig.set_figheight(10)\n",
    "fig.set_figwidth(10)\n",
    "axes[0,0].imshow(start > 0.2)\n",
    "axes[0,0].set_title(\"start\")\n",
    "axes[0,1].imshow(water)\n",
    "axes[0,1].set_title(\"water\")\n",
    "axes[0,2].imshow(mountain > 0)\n",
    "axes[0,2].set_title(\"mountain\")\n",
    "axes[0,3].imshow(path)\n",
    "axes[0,3].set_title(\"path\")\n",
    "axes[1,0].imshow(coal)\n",
    "axes[1,0].set_title(\"coal\")\n",
    "axes[1,1].imshow(iron)\n",
    "axes[1,1].set_title(\"iron\")\n",
    "axes[1,2].imshow(diamond)\n",
    "axes[1,2].set_title(\"diamond\")\n",
    "axes[1,3].imshow(stone)\n",
    "axes[1,3].set_title(\"stone\")\n",
    "axes[2,0].imshow(coal_simplex)\n",
    "axes[2,0].set_title(\"coal simplex\")\n",
    "axes[2,1].imshow(iron_simplex)\n",
    "axes[2,1].set_title(\"iron simplex\")"
   ]
  },
  {
   "cell_type": "code",
   "execution_count": 135,
   "metadata": {},
   "outputs": [
    {
     "data": {
      "text/plain": [
       "<matplotlib.image.AxesImage at 0x16945a2b0>"
      ]
     },
     "execution_count": 135,
     "metadata": {},
     "output_type": "execute_result"
    },
    {
     "data": {
      "image/png": "[encoded data removed]",
      "text/plain": [
       "<Figure size 432x288 with 1 Axes>"
      ]
     },
     "metadata": {
      "needs_background": "light"
     },
     "output_type": "display_data"
    }
   ],
   "source": [
    "def _set_start(world, pos, player_pos, tunnels, simplex):\n",
    "    x, y = pos\n",
    "    simplex = functools.partial(_simplex, simplex)\n",
    "    world[x,y] = simplex(x, y, 1, 8)\n",
    "    \n",
    "    \n",
    "world = np.zeros((64, 64))\n",
    "for x in range(world.shape[0]):\n",
    "    for y in range(world.shape[1]):\n",
    "        _set_start(world, (x, y), (32, 32), 0, simplex)\n",
    "\n",
    "plt.imshow(world)"
   ]
  },
  {
   "cell_type": "code",
   "execution_count": null,
   "metadata": {},
   "outputs": [],
   "source": []
  }
 ],
 "metadata": {
  "interpreter": {
   "hash": "ade484587cfcfb83c5303cf870b3f1048aef9a787f91ff6d5b20a77e7e9143be"
  },
  "kernelspec": {
   "display_name": "Python 3.8.11 ('crafter_level')",
   "language": "python",
   "name": "python3"
  },
  "language_info": {
   "codemirror_mode": {
    "name": "ipython",
    "version": 3
   },
   "file_extension": ".py",
   "mimetype": "text/x-python",
   "name": "python",
   "nbconvert_exporter": "python",
   "pygments_lexer": "ipython3",
   "version": "3.8.11"
  },
  "orig_nbformat": 4
 },
 "nbformat": 4,
 "nbformat_minor": 2
}
